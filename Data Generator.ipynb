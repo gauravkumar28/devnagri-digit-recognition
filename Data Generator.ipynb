{
 "cells": [
  {
   "cell_type": "code",
   "execution_count": 10,
   "metadata": {
    "collapsed": true
   },
   "outputs": [],
   "source": [
    "import scipy.io\n",
    "import numpy as np\n",
    "from matplotlib import pyplot as plt\n",
    "import os\n",
    "cwd = os.getcwd()\n",
    "mat = scipy.io.loadmat('data.mat')\n",
    "\n"
   ]
  },
  {
   "cell_type": "code",
   "execution_count": 11,
   "metadata": {
    "collapsed": false
   },
   "outputs": [
    {
     "name": "stdout",
     "output_type": "stream",
     "text": [
      "28 615132\n",
      "21969\n"
     ]
    }
   ],
   "source": [
    "data = mat[\"data\"]\n",
    "a, b = data.shape\n",
    "print a, b\n",
    "total_image = b/a\n",
    "label_mat = scipy.io.loadmat(\"label.mat\")\n",
    "label = label_mat[\"label\"]\n",
    "print total_image"
   ]
  },
  {
   "cell_type": "code",
   "execution_count": null,
   "metadata": {
    "collapsed": false
   },
   "outputs": [
    {
     "name": "stdout",
     "output_type": "stream",
     "text": [
      "0 1 2 3 4 5 6 7 8 9 10 11 12 13 14 15 16 17 18 19 20 21 22 23 24 25 26 27 28 29 30 31 32 33 34 35 36 37 38 39 40 41 42 43 44 45 46 47 48 49 50 51 52 53 54 55 56 57 58 59 60 61 62 63 64 65 66 67 68 69 70 71 72 73 74 75 76 77 78 79 80 81 82 83 84 85 86 87 88 89 90 91 92 93 94 95 96 97 98 99 100 101 102 103 104 105 106 107 108 109 110 111 112 113 114 115 116 117 118 119 120 121 122 123 124 125 126 127 128 129 130 131 132 133 134 135 136 137 138 139 140 141 142 143 144 145 146 147 148 149 150 151 152 153 154 155 156 157 158 159 160 161 162 163 164 165 166 167 168 169 170 171 172 173 174 175 176 177 178 179 180 181 182 183 184 185 186 187 188 189 190 191 192 193 194 195 196 197 198 199 200 201 202 203 204 205 206 207 208 209 210 211 212 213 214 215 216 217 218 219 220 221 222 223 224 225 226 227 228 229 230 231 232 233 234 235 236 237 238 239 240 241 242 243 244 245 246 247 248 249 250 251 252 253 254 255 256 257 258 259 260 261 262 263 264 265 266 267 268 269 270 271 272 273 274 275 276 277 278 279 280 281 282 283 284 285 286 287 288 289 290 291 292 293 294 295 296 297 298 299 300 301 302 303 304 305 306 307 308 309 310 311 312 313 314 315 316 317 318 319 320 321 322 323 324 325 326 327 328 329 330 331 332 333 334 335 336 337 338 339 340 341 342 343 344 345 346 347 348 349 350 351 352 353 354 355 356 357 358 359 360 361 362 363 364 365 366 367 368 369 370 371 372 373 374 375 376 377 378 379 380 381 382 383 384 385 386 387 388 389 390 391 392 393 394 395 396 397 398 399 400 401 402 403 404 405 406 407 408 409 410 411 412 413 414 415 416 417 418 419 420 421 422 423 424 425 426 427 428 429 430 431 432 433 434 435 436 437 438 439 440 441 442 443 444 445 446 447 448 449 450 451 452 453 454 455 456 457 458 459 460 461 462 463 464 465 466 467 468 469 470 471 472 473 474 475 476 477 478 479 480 481 482 483 484 485 486 487 488 489 490 491 492 493 494 495 496 497 498 499 500 501 502 503 504 505 506 507 508 509 510 511 512 513 514 515 516 517 518 519 520 521 522 523 524 525 526 527 528 529 530 531 532 533 534 535 536 537 538 539 540 541 542 543 544 545 546 547 548 549 550 551 552 553 554 555 556 557 558 559 560 561 562 563 564 565 566 567 568 569 570 571 572 573 574 575 576 577 578 579 580 581 582 583 584 585 586 587 588 589 590 591 592 593 594 595 596 597 598 599 600 601 602 603 604 605 606 607 608 609 610 611 612 613 614 615 616 617 618 619 620 621 622 623 624 625 626 627 628 629 630 631 632 633 634 635 636 637 638 639 640 641 642 643 644 645 646 647 648 649 650 651 652 653 654 655 656 657 658 659 660 661 662 663 664 665 666 667 668 669 670 671 672 673 674 675 676 677 678 679 680 681 682 683 684 685 686 687 688 689 690 691 692 693 694 695 696 697 698 699 700 701 702 703 704 705 706 707 708 709 710 711 712 713 714 715 716 717 718 719 720 721 722 723 724 725 726 727 728 729 730 731 732 733 734 735 736 737 738 739 740 741 742 743 744 745 746 747 748 749 750 751 752 753 754 755 756 757 758 759 760 761 762 763 764 765 766 767 768 769 770 771 772 773 774 775 776 777 778 779 780 781 782 783 784 785 786 787 788 789 790 791 792 793 794 795 796 797 798 799 800 801 802 803 804 805 806 807 808 809 810 811 812 813 814 815 816 817 818 819 820 821 822 823 824 825 826 827 828 829 830 831 832 833 834 835 836 837 838 839 840 841 842 843 844 845 846 847 848 849 850 851 852 853 854 855 856 857 858 859 860 861 862 863 864 865 866 867 868 869 870 871 872 873 874 875 876 877 878 879 880 881 882 883 884 885 886 887 888 889 890 891 892 893 894 895 896 897 898 899 900 901 902 903 904 905 906 907 908 909 910 911 912 913 914 915 916 917 918 919 920 921 922 923 924 925 926 927 928 929 930 931 932 933 934 935 936 937 938 939 940 941 942 943 944 945 946 947 948 949 950 951 952 953 954 955 956 957 958 959 960 961 962 963 964 965 966 967 968 969 970 971 972 973 974 975 976 977 978 979 980 981 982 983 984 985 986 987 988 989 990 991 992 993 994 995 996 997 998 999 1000 1001 1002 1003 1004 1005 1006 1007 1008 1009 1010 1011 1012 1013 1014 1015 1016 1017 1018 1019 1020 1021 1022 1023 1024 1025 1026 1027 1028 1029 1030 1031 1032 1033 1034 1035 1036 1037 1038 1039 1040 1041 1042 1043 1044 1045 1046 1047 1048 1049 1050 1051 1052 1053 1054 1055 1056 1057 1058 1059 1060 1061 1062 1063 1064 1065 1066 1067 1068 1069 1070 1071 1072 1073 1074 1075 1076 1077 1078 1079 1080 1081 1082 1083 1084 1085 1086 1087 1088 1089 1090 1091 1092 1093 1094 1095 1096 1097 1098 1099 1100 1101 1102 1103 1104 1105 1106 1107 1108 1109 1110 1111 1112 1113 1114 1115 1116 1117 1118 1119 1120 1121 1122 1123 1124 1125 1126 1127 1128 1129 1130 1131 1132 1133 1134 1135 1136 1137 1138 1139 1140 1141 1142 1143 1144 1145 1146 1147 1148 1149 1150 1151 1152 1153 1154 1155 1156 1157 1158 1159 1160 1161 1162 1163 1164 1165 1166 1167 1168 1169 1170 1171 1172 1173 1174 1175 1176 1177 1178 1179 1180 1181 1182 1183 1184 1185 1186 1187 1188 1189 1190 1191 1192 1193 1194 1195 1196 1197 1198 1199 1200 1201 1202 1203 1204 1205 1206 1207 1208 1209 1210 1211 1212 1213 1214 1215 1216 1217 1218 1219 1220 1221 1222 1223 1224 1225 1226 1227 1228 1229 1230 1231 1232 1233 1234 1235 1236 1237 1238 1239 1240 1241 1242 1243 1244 1245 1246 1247 1248 1249 1250 1251 1252 1253 1254 1255 1256 1257 1258 1259 1260 1261 1262 1263 1264 1265 1266 1267 1268 1269 1270 1271 1272 1273 1274 1275 1276 1277 1278 1279 1280 1281 1282 1283 1284 1285 1286 1287 1288 1289 1290 1291 1292 1293 1294 1295 1296 1297 1298 1299 1300 1301 1302 1303 1304 1305 1306 1307 1308 1309 1310 1311 1312 1313 1314 1315 1316 1317 1318 1319 1320 1321 1322 1323 1324 1325 1326 1327 1328 1329 1330 1331 1332 1333 1334 1335 1336 1337 1338 1339 1340 1341 1342 1343 1344 1345 1346 1347 1348 1349 1350 1351 1352 1353 1354 1355 1356 1357 1358 1359 1360 1361 1362 1363 1364 1365 1366 1367 1368 1369 1370 1371 1372 1373 1374 1375 1376 1377 1378 1379 1380 1381 1382 1383 1384 1385 1386 1387 1388 1389 1390 1391 1392 1393 1394 1395 1396 1397 1398 1399 1400 1401 1402 1403 1404 1405 1406 1407 1408 1409 1410 1411 1412 1413 1414 1415 1416 1417 1418 1419 1420 1421 1422 1423 1424 1425 1426 1427 1428 1429 1430 1431 1432 1433 1434 1435 1436 1437 1438 1439 1440 1441 1442 1443 1444 1445 1446 1447 1448 1449 1450 1451 1452 1453 1454 1455 1456 1457 1458 1459 1460 1461 1462 1463 1464 1465 1466 1467 1468 1469 1470 1471 1472 1473 1474 1475 1476 1477 1478 1479 1480 1481 1482 1483 1484 1485 1486 1487 1488 1489 1490 1491 1492 1493 1494 1495 1496 1497 1498 1499 1500 1501 1502 1503 1504 1505 1506 1507 1508 1509 1510 1511 1512 1513 1514 1515 1516 1517 1518 1519 1520 1521 1522 1523 1524 1525 1526 1527 1528 1529 1530 1531 1532 1533 1534 1535 1536 1537 1538 1539 1540 1541 1542 1543 1544 1545 1546 1547 1548 1549 1550 1551 1552 1553 1554 1555 1556 1557 1558 1559 1560 1561 1562 1563 1564 1565 1566 1567 1568 1569 1570 1571 1572 1573 1574 1575 1576 1577 1578 1579 1580 1581 1582 1583 1584 1585 1586 1587 1588 1589 1590 1591 1592 1593 1594 1595 1596 1597 1598 1599 1600 1601 1602 1603 1604 1605 1606 1607 1608 1609 1610 1611 1612 1613 1614 1615 1616 1617 1618 1619 1620 1621 1622 1623 1624 1625 1626 1627 1628 1629 1630 1631 1632 1633 1634 1635 1636 1637 1638 1639 1640 1641 1642 1643 1644 1645 1646 1647 1648 1649 1650 1651 1652 1653 1654 1655 1656 1657 1658 1659 1660 1661 1662 1663 1664 1665 1666 1667 1668 1669 1670 1671 1672 1673 1674 1675 1676 1677 1678 1679 1680 1681 1682 1683 1684 1685 1686 1687 1688 1689 1690 1691 1692 1693 1694 1695 1696 1697 1698 1699 1700 1701 1702 1703 1704 1705 1706 1707 1708 1709 1710 1711 1712 1713 1714 1715 1716 1717 1718 1719 1720 1721 1722 1723 1724 1725 1726 1727 1728 1729 1730 1731 1732 1733 1734 1735 1736 1737 1738 1739 1740 1741 1742 1743 1744 1745 1746 1747 1748 1749 1750 1751 1752 1753 1754 1755 1756 1757 1758 1759 1760 1761 1762 1763 1764 1765 1766 1767 1768 1769 1770 1771 1772 1773 1774 1775 1776 1777 1778 1779 1780 1781 1782 1783 1784 1785 1786 1787 1788 1789 1790 1791 1792 1793 1794 1795 1796 1797 1798 1799 1800 1801 1802 1803 1804 1805 1806 1807 1808 1809 1810 1811 1812 1813 1814 1815 1816 1817 1818 1819 1820 1821 1822 1823 1824 1825 1826 1827 1828 1829 1830 1831 1832 1833 1834 1835 1836 1837 1838 1839 1840 1841 1842 1843 1844 1845 1846 1847 1848 1849 1850 1851 1852 1853 1854 1855 1856 1857 1858 1859 1860 1861 1862 1863 1864 1865 1866 1867 1868 1869 1870 1871 1872 1873 1874 1875 1876 1877 1878 1879 1880 1881 1882 1883 1884 1885 1886 1887 1888 1889 1890 1891 1892 1893 1894 1895 1896 1897 1898 1899 1900 1901 1902 1903 1904 1905 1906 1907 1908 1909 1910 1911 1912 1913 1914 1915 1916 1917 1918 1919 1920 1921 1922 1923 1924 1925 1926 1927 1928 1929 1930 1931 1932 1933 1934 1935 1936 1937 1938 1939 1940 1941 1942 1943 1944 1945 1946 1947 1948 1949 1950 1951 1952 1953 1954 1955 1956 1957 1958 1959 1960 1961 1962 1963 1964 1965 1966 1967 1968 1969 1970 1971 1972 1973 1974 1975 1976 1977 1978 1979 1980 1981 1982 1983 1984 1985 1986 1987 1988 1989 1990 1991 1992 1993 1994 1995 1996 1997 1998 1999 2000 2001 2002 2003 2004 2005 2006 2007 2008 2009 2010 2011 2012 2013 2014 2015 2016 2017 2018 2019 2020 2021 2022 2023 2024 2025 2026 2027 2028 2029 2030 2031 2032 2033 2034 2035 2036 2037 2038 2039 2040 2041 2042 2043 2044 2045 2046 2047 2048 2049 2050 2051 2052 2053 2054 2055 2056 2057 2058 2059 2060 2061 2062 2063 2064 2065 2066 2067 2068 2069 2070 2071 2072 2073 2074 2075 2076 2077 2078 2079 2080 2081 2082 2083 2084 2085 2086 2087 2088 2089 2090 2091 2092 2093 2094 2095 2096 2097 2098 2099 2100 2101 2102 2103 2104 2105 2106 2107 2108 2109 2110 2111 2112 2113 2114 2115 2116 2117 2118 2119 2120 2121 2122 2123 2124 2125 2126 2127 2128 2129 2130 2131 2132 2133 2134 2135 2136 2137 2138"
     ]
    }
   ],
   "source": [
    "\n",
    "import time\n",
    "file_name = str(time.time())\n",
    "\n",
    "for i in range(total_image):\n",
    "    imageArry = data[0:28, 28*i + 1:28*(i+1)]\n",
    "    plt.imshow(imageArry, cmap='gray', interpolation=\"nearest\")\n",
    "    plt.savefig(cwd + \"/\" + str(label[0][i])+\"/\"+str(time.time()) +\".png\")\n",
    "    print(i),\n",
    "\n"
   ]
  },
  {
   "cell_type": "code",
   "execution_count": 12,
   "metadata": {
    "collapsed": false
   },
   "outputs": [],
   "source": [
    "#################################  Create Training AND Test DataSet ################################\n",
    "from sklearn.model_selection import train_test_split\n",
    "transData = np.zeros(shape=(21969, 784))\n",
    "for i in range(21969):\n",
    "    data[0:28, 28*i + 1:28*(i+1)]\n",
    "    transData[i] = data[0:28, 28*i:28*(i+1)].reshape(1,784)\n",
    "\n",
    "label = label.reshape(21969,1)\n",
    "X_trn, X_tst, y_trn, y_tst = train_test_split(transData, label, test_size=0.2, random_state=42)\n"
   ]
  },
  {
   "cell_type": "code",
   "execution_count": 33,
   "metadata": {
    "collapsed": false
   },
   "outputs": [],
   "source": [
    "################################ BUILDING ANN   ########################\n",
    "#WITH 28 * 28 pixel INPUT LAYER\n",
    "#40 HIDDEN LAYER\n",
    "#10 OUTPUT LAYER"
   ]
  },
  {
   "cell_type": "code",
   "execution_count": 13,
   "metadata": {
    "collapsed": false
   },
   "outputs": [
    {
     "name": "stdout",
     "output_type": "stream",
     "text": [
      "Linear SVM accuracy:  0.812926718252\n"
     ]
    }
   ],
   "source": [
    "################### SVM BASED CLASSIFIER ########################\n",
    "from sklearn.svm import LinearSVC\n",
    "from sklearn.metrics import accuracy_score\n",
    "\n",
    "clf_svm = LinearSVC()\n",
    "clf_svm.fit(X_trn, y_trn)\n",
    "y_pred_svm = clf_svm.predict(X_tst)\n",
    "acc_svm = accuracy_score(y_tst, y_pred_svm)\n",
    "print \"Linear SVM accuracy: \",acc_svm"
   ]
  },
  {
   "cell_type": "code",
   "execution_count": 14,
   "metadata": {
    "collapsed": false
   },
   "outputs": [
    {
     "name": "stdout",
     "output_type": "stream",
     "text": [
      "stochastic gradient descent accuracy:  0.868229403732\n"
     ]
    }
   ],
   "source": [
    "from sklearn.linear_model import SGDClassifier\n",
    "clf_sgd = SGDClassifier()\n",
    "clf_sgd.fit(X_trn, y_trn)\n",
    "y_pred_sgd = clf_sgd.predict(X_tst)\n",
    "acc_sgd = accuracy_score(y_tst, y_pred_sgd)\n",
    "print \"stochastic gradient descent accuracy: \",acc_sgd"
   ]
  },
  {
   "cell_type": "code",
   "execution_count": 15,
   "metadata": {
    "collapsed": false
   },
   "outputs": [
    {
     "name": "stderr",
     "output_type": "stream",
     "text": [
      "/Users/gaurav.kumar3/anaconda/lib/python2.7/site-packages/ipykernel/__main__.py:3: DataConversionWarning: A column-vector y was passed when a 1d array was expected. Please change the shape of y to (n_samples, ), for example using ravel().\n",
      "  app.launch_new_instance()\n"
     ]
    },
    {
     "name": "stdout",
     "output_type": "stream",
     "text": [
      "nearest neighbors accuracy:  0.971096950387\n"
     ]
    }
   ],
   "source": [
    "from sklearn.neighbors import KNeighborsClassifier\n",
    "clf_knn = KNeighborsClassifier()\n",
    "clf_knn.fit(X_trn, y_trn)\n",
    "y_pred_knn = clf_knn.predict(X_tst)\n",
    "acc_knn = accuracy_score(y_tst, y_pred_knn)\n",
    "print \"nearest neighbors accuracy: \",acc_knn"
   ]
  },
  {
   "cell_type": "code",
   "execution_count": 16,
   "metadata": {
    "collapsed": false
   },
   "outputs": [
    {
     "name": "stdout",
     "output_type": "stream",
     "text": [
      "gnumpy: failed to import cudamat. Using npmat instead. No GPU will be used.\n"
     ]
    },
    {
     "name": "stderr",
     "output_type": "stream",
     "text": [
      "/Users/gaurav.kumar3/anaconda/lib/python2.7/site-packages/nolearn/dbn.py:15: UserWarning: The nolearn.dbn module is no longer supported.  Take a look at\n",
      "*nolearn.lasagne* for a more modern neural net toolkit.\n",
      "\n",
      "  \"\"\")\n",
      "/Users/gaurav.kumar3/anaconda/lib/python2.7/site-packages/sklearn/preprocessing/label.py:129: DataConversionWarning: A column-vector y was passed when a 1d array was expected. Please change the shape of y to (n_samples, ), for example using ravel().\n",
      "  y = column_or_1d(y, warn=True)\n"
     ]
    },
    {
     "name": "stdout",
     "output_type": "stream",
     "text": [
      "neural network accuracy:  0.210286754665\n"
     ]
    },
    {
     "name": "stderr",
     "output_type": "stream",
     "text": [
      "/Users/gaurav.kumar3/anaconda/lib/python2.7/site-packages/sklearn/preprocessing/label.py:147: DataConversionWarning: A column-vector y was passed when a 1d array was expected. Please change the shape of y to (n_samples, ), for example using ravel().\n",
      "  y = column_or_1d(y, warn=True)\n"
     ]
    }
   ],
   "source": [
    "from nolearn.dbn import DBN\n",
    "clf_nn = DBN([X_trn.shape[1], 4000, 10],learn_rates=0.3,learn_rate_decays=0.9,epochs=10)\n",
    "clf_nn.fit(X_trn, y_trn)\n",
    "acc_nn = clf_nn.score(X_tst,y_tst)\n",
    "print \"neural network accuracy: \",acc_nn"
   ]
  },
  {
   "cell_type": "code",
   "execution_count": 106,
   "metadata": {
    "collapsed": false
   },
   "outputs": [
    {
     "name": "stdout",
     "output_type": "stream",
     "text": [
      "Train on 17575 samples, validate on 4394 samples\n",
      "Epoch 1/10\n",
      "12s - loss: 0.5783 - acc: 0.8171 - val_loss: 0.2929 - val_acc: 0.9071\n",
      "Epoch 2/10\n",
      "12s - loss: 0.2245 - acc: 0.9317 - val_loss: 0.1778 - val_acc: 0.9458\n",
      "Epoch 3/10\n",
      "12s - loss: 0.1564 - acc: 0.9543 - val_loss: 0.1470 - val_acc: 0.9574\n",
      "Epoch 4/10\n",
      "12s - loss: 0.1223 - acc: 0.9638 - val_loss: 0.1114 - val_acc: 0.9677\n",
      "Epoch 5/10\n",
      "12s - loss: 0.0938 - acc: 0.9733 - val_loss: 0.1039 - val_acc: 0.9679\n",
      "Epoch 6/10\n",
      "12s - loss: 0.0789 - acc: 0.9764 - val_loss: 0.0937 - val_acc: 0.9700\n",
      "Epoch 7/10\n",
      "12s - loss: 0.0687 - acc: 0.9795 - val_loss: 0.0865 - val_acc: 0.9743\n",
      "Epoch 8/10\n",
      "12s - loss: 0.0601 - acc: 0.9824 - val_loss: 0.0803 - val_acc: 0.9759\n",
      "Epoch 9/10\n",
      "13s - loss: 0.0532 - acc: 0.9842 - val_loss: 0.0736 - val_acc: 0.9752\n",
      "Epoch 10/10\n",
      "13s - loss: 0.0471 - acc: 0.9848 - val_loss: 0.0675 - val_acc: 0.9791\n",
      "Baseline Error: 2.09%\n"
     ]
    }
   ],
   "source": [
    "\n",
    "\n",
    "import numpy\n",
    "from keras.datasets import mnist\n",
    "from keras.models import Sequential\n",
    "from keras.layers import Dense\n",
    "from keras.layers import Dropout\n",
    "from keras.layers import Flatten\n",
    "from keras.layers.convolutional import Convolution2D\n",
    "from keras.layers.convolutional import MaxPooling2D\n",
    "from keras.utils import np_utils\n",
    "from keras import backend as K\n",
    "K.set_image_dim_ordering('th')\n",
    "\n",
    "X_train = X_trn.reshape(X_trn.shape[0], 1, 28, 28).astype('float32')\n",
    "X_test = X_tst.reshape(X_tst.shape[0], 1, 28, 28).astype('float32')\n",
    "\n",
    "X_train = X_train / 255\n",
    "X_test = X_test / 255\n",
    "# one hot encode outputs\n",
    "y_train = np_utils.to_categorical(y_trn)\n",
    "y_test = np_utils.to_categorical(y_tst)\n",
    "num_classes = y_test.shape[1]\n",
    "\n",
    "\n",
    "\n",
    "\n",
    "model = Sequential()\n",
    "model.add(Convolution2D(32, 5, 5, input_shape=(1, 28, 28), activation='relu'))\n",
    "model.add(MaxPooling2D(pool_size=(2, 2)))\n",
    "model.add(Dropout(0.2))\n",
    "model.add(Flatten())\n",
    "model.add(Dense(128, activation='relu'))\n",
    "model.add(Dense( y_test.shape[1], activation='softmax'))\n",
    "# Compile model\n",
    "model.compile(loss='categorical_crossentropy', optimizer='adam', metrics=['accuracy'])\n",
    "\n",
    "model.fit(X_train, y_train, validation_data=(X_test, y_test), nb_epoch=10, batch_size=200, verbose=2)\n",
    "# # Final evaluation of the model\n",
    "scores = model.evaluate(X_test, y_test, verbose=0)\n",
    "print(\"Baseline Error: %.2f%%\" % (100-scores[1]*100))"
   ]
  },
  {
   "cell_type": "code",
   "execution_count": 73,
   "metadata": {
    "collapsed": false
   },
   "outputs": [
    {
     "name": "stdout",
     "output_type": "stream",
     "text": [
      "Train on 17575 samples, validate on 4394 samples\n",
      "Epoch 1/10\n",
      "15s - loss: 0.8594 - acc: 0.7232 - val_loss: 0.2598 - val_acc: 0.9231\n",
      "Epoch 2/10\n",
      "17s - loss: 0.2473 - acc: 0.9223 - val_loss: 0.1525 - val_acc: 0.9543\n",
      "Epoch 3/10\n",
      "18s - loss: 0.1690 - acc: 0.9484 - val_loss: 0.1067 - val_acc: 0.9697\n",
      "Epoch 4/10\n",
      "17s - loss: 0.1372 - acc: 0.9576 - val_loss: 0.0943 - val_acc: 0.9725\n",
      "Epoch 5/10\n",
      "16s - loss: 0.1094 - acc: 0.9672 - val_loss: 0.0784 - val_acc: 0.9761\n",
      "Epoch 6/10\n",
      "18s - loss: 0.0956 - acc: 0.9698 - val_loss: 0.0689 - val_acc: 0.9772\n",
      "Epoch 7/10\n",
      "20s - loss: 0.0839 - acc: 0.9735 - val_loss: 0.0628 - val_acc: 0.9816\n",
      "Epoch 8/10\n",
      "19s - loss: 0.0736 - acc: 0.9770 - val_loss: 0.0626 - val_acc: 0.9809\n",
      "Epoch 9/10\n",
      "20s - loss: 0.0680 - acc: 0.9784 - val_loss: 0.0593 - val_acc: 0.9807\n",
      "Epoch 10/10\n",
      "20s - loss: 0.0614 - acc: 0.9789 - val_loss: 0.0532 - val_acc: 0.9848\n",
      "Baseline Error: 1.52%\n"
     ]
    }
   ],
   "source": [
    "import numpy\n",
    "from keras.datasets import mnist\n",
    "from keras.models import Sequential\n",
    "from keras.layers import Dense\n",
    "from keras.layers import Dropout\n",
    "from keras.layers import Flatten\n",
    "from keras.layers.convolutional import Convolution2D\n",
    "from keras.layers.convolutional import MaxPooling2D\n",
    "from keras.utils import np_utils\n",
    "from keras import backend as K\n",
    "K.set_image_dim_ordering('th')\n",
    "\n",
    "X_train = X_trn.reshape(X_trn.shape[0], 1, 28, 28).astype('float32')\n",
    "X_test = X_tst.reshape(X_tst.shape[0], 1, 28, 28).astype('float32')\n",
    "\n",
    "X_train = X_train / 255\n",
    "X_test = X_test / 255\n",
    "# one hot encode outputs\n",
    "y_train = np_utils.to_categorical(y_trn)\n",
    "y_test = np_utils.to_categorical(y_tst)\n",
    "num_classes = y_test.shape[1]\n",
    "\n",
    "\n",
    "\n",
    "\n",
    "model = Sequential()\n",
    "\n",
    "\n",
    "model.add(Convolution2D(32, 5, 5, input_shape=(1, 28, 28), activation='relu'))\n",
    "model.add(MaxPooling2D(pool_size=(2, 2), strides=(2, 2)))\n",
    "model.add(Convolution2D(32, 5, 5, activation='relu'))\n",
    "model.add(MaxPooling2D(pool_size=(2, 2), strides=(2, 2)))\n",
    "model.add(Dropout(0.3))\n",
    "model.add(Flatten())\n",
    "model.add(Dense(64, activation='relu'))\n",
    "\n",
    "model.add(Dense(y_test.shape[1], activation='softmax'))\n",
    "\t# Compile model\n",
    "model.compile(loss='categorical_crossentropy', optimizer='adam', metrics=['accuracy'])\n",
    "\n",
    "model.fit(X_train, y_train, validation_data=(X_test, y_test), nb_epoch=10, batch_size=200, verbose=2)\n",
    "# # Final evaluation of the model\n",
    "scores = model.evaluate(X_test, y_test, verbose=0)\n",
    "print(\"Baseline Error: %.2f%%\" % (100-scores[1]*100))"
   ]
  },
  {
   "cell_type": "code",
   "execution_count": 75,
   "metadata": {
    "collapsed": false
   },
   "outputs": [
    {
     "name": "stdout",
     "output_type": "stream",
     "text": [
      "Train on 17575 samples, validate on 4394 samples\n",
      "Epoch 1/50\n",
      "35s - loss: 1.3205 - acc: 0.5405 - val_loss: 0.3874 - val_acc: 0.8792\n",
      "Epoch 2/50\n",
      "37s - loss: 0.3461 - acc: 0.8942 - val_loss: 0.1544 - val_acc: 0.9558\n",
      "Epoch 3/50\n",
      "37s - loss: 0.2021 - acc: 0.9386 - val_loss: 0.1064 - val_acc: 0.9681\n",
      "Epoch 4/50\n",
      "38s - loss: 0.1582 - acc: 0.9511 - val_loss: 0.0881 - val_acc: 0.9706\n",
      "Epoch 5/50\n",
      "39s - loss: 0.1248 - acc: 0.9624 - val_loss: 0.0765 - val_acc: 0.9743\n",
      "Epoch 6/50\n",
      "39s - loss: 0.1097 - acc: 0.9667 - val_loss: 0.0654 - val_acc: 0.9804\n",
      "Epoch 7/50\n",
      "39s - loss: 0.1009 - acc: 0.9693 - val_loss: 0.0678 - val_acc: 0.9791\n",
      "Epoch 8/50\n",
      "39s - loss: 0.0885 - acc: 0.9723 - val_loss: 0.0601 - val_acc: 0.9813\n",
      "Epoch 9/50\n",
      "39s - loss: 0.0793 - acc: 0.9746 - val_loss: 0.0478 - val_acc: 0.9845\n",
      "Epoch 10/50\n",
      "39s - loss: 0.0776 - acc: 0.9756 - val_loss: 0.0503 - val_acc: 0.9838\n",
      "Epoch 11/50\n",
      "39s - loss: 0.0641 - acc: 0.9799 - val_loss: 0.0582 - val_acc: 0.9822\n",
      "Epoch 12/50\n",
      "40s - loss: 0.0645 - acc: 0.9784 - val_loss: 0.0688 - val_acc: 0.9797\n",
      "Epoch 13/50\n",
      "39s - loss: 0.0664 - acc: 0.9788 - val_loss: 0.0473 - val_acc: 0.9854\n",
      "Epoch 14/50\n",
      "42s - loss: 0.0549 - acc: 0.9824 - val_loss: 0.0434 - val_acc: 0.9870\n",
      "Epoch 15/50\n",
      "44s - loss: 0.0499 - acc: 0.9838 - val_loss: 0.0418 - val_acc: 0.9857\n",
      "Epoch 16/50\n",
      "42s - loss: 0.0479 - acc: 0.9854 - val_loss: 0.0418 - val_acc: 0.9875\n",
      "Epoch 17/50\n",
      "40s - loss: 0.0448 - acc: 0.9856 - val_loss: 0.0496 - val_acc: 0.9845\n",
      "Epoch 18/50\n",
      "41s - loss: 0.0433 - acc: 0.9853 - val_loss: 0.0408 - val_acc: 0.9891\n",
      "Epoch 19/50\n",
      "40s - loss: 0.0459 - acc: 0.9837 - val_loss: 0.0488 - val_acc: 0.9857\n",
      "Epoch 20/50\n",
      "40s - loss: 0.0378 - acc: 0.9874 - val_loss: 0.0433 - val_acc: 0.9861\n",
      "Epoch 21/50\n",
      "40s - loss: 0.0406 - acc: 0.9866 - val_loss: 0.0488 - val_acc: 0.9866\n",
      "Epoch 22/50\n",
      "40s - loss: 0.0365 - acc: 0.9884 - val_loss: 0.0442 - val_acc: 0.9879\n",
      "Epoch 23/50\n",
      "45s - loss: 0.0360 - acc: 0.9886 - val_loss: 0.0451 - val_acc: 0.9870\n",
      "Epoch 24/50\n",
      "45s - loss: 0.0365 - acc: 0.9876 - val_loss: 0.0447 - val_acc: 0.9884\n",
      "Epoch 25/50\n",
      "45s - loss: 0.0338 - acc: 0.9886 - val_loss: 0.0418 - val_acc: 0.9884\n",
      "Epoch 26/50\n",
      "40s - loss: 0.0324 - acc: 0.9887 - val_loss: 0.0506 - val_acc: 0.9868\n",
      "Epoch 27/50\n",
      "40s - loss: 0.0322 - acc: 0.9895 - val_loss: 0.0500 - val_acc: 0.9870\n",
      "Epoch 28/50\n",
      "39s - loss: 0.0315 - acc: 0.9896 - val_loss: 0.0459 - val_acc: 0.9850\n",
      "Epoch 29/50\n",
      "39s - loss: 0.0347 - acc: 0.9890 - val_loss: 0.0436 - val_acc: 0.9886\n",
      "Epoch 30/50\n",
      "40s - loss: 0.0272 - acc: 0.9912 - val_loss: 0.0405 - val_acc: 0.9886\n",
      "Epoch 31/50\n",
      "40s - loss: 0.0304 - acc: 0.9895 - val_loss: 0.0582 - val_acc: 0.9848\n",
      "Epoch 32/50\n",
      "41s - loss: 0.0288 - acc: 0.9902 - val_loss: 0.0360 - val_acc: 0.9895\n",
      "Epoch 33/50\n",
      "45s - loss: 0.0261 - acc: 0.9912 - val_loss: 0.0424 - val_acc: 0.9882\n",
      "Epoch 34/50\n",
      "41s - loss: 0.0305 - acc: 0.9890 - val_loss: 0.0314 - val_acc: 0.9904\n",
      "Epoch 35/50\n",
      "43s - loss: 0.0268 - acc: 0.9914 - val_loss: 0.0308 - val_acc: 0.9904\n",
      "Epoch 36/50\n",
      "45s - loss: 0.0200 - acc: 0.9933 - val_loss: 0.0423 - val_acc: 0.9918\n",
      "Epoch 37/50\n",
      "41s - loss: 0.0296 - acc: 0.9902 - val_loss: 0.0355 - val_acc: 0.9914\n",
      "Epoch 38/50\n",
      "43s - loss: 0.0233 - acc: 0.9917 - val_loss: 0.0457 - val_acc: 0.9877\n",
      "Epoch 39/50\n",
      "44s - loss: 0.0255 - acc: 0.9920 - val_loss: 0.0405 - val_acc: 0.9893\n",
      "Epoch 40/50\n",
      "43s - loss: 0.0251 - acc: 0.9914 - val_loss: 0.0369 - val_acc: 0.9904\n",
      "Epoch 41/50\n",
      "40s - loss: 0.0223 - acc: 0.9925 - val_loss: 0.0391 - val_acc: 0.9893\n",
      "Epoch 42/50\n",
      "40s - loss: 0.0209 - acc: 0.9932 - val_loss: 0.0356 - val_acc: 0.9893\n",
      "Epoch 43/50\n",
      "40s - loss: 0.0219 - acc: 0.9933 - val_loss: 0.0476 - val_acc: 0.9879\n",
      "Epoch 44/50\n",
      "40s - loss: 0.0229 - acc: 0.9919 - val_loss: 0.0389 - val_acc: 0.9886\n",
      "Epoch 45/50\n",
      "40s - loss: 0.0211 - acc: 0.9932 - val_loss: 0.0472 - val_acc: 0.9886\n",
      "Epoch 46/50\n",
      "39s - loss: 0.0181 - acc: 0.9939 - val_loss: 0.0419 - val_acc: 0.9893\n",
      "Epoch 47/50\n",
      "40s - loss: 0.0168 - acc: 0.9941 - val_loss: 0.0382 - val_acc: 0.9907\n",
      "Epoch 48/50\n",
      "39s - loss: 0.0160 - acc: 0.9945 - val_loss: 0.0408 - val_acc: 0.9886\n",
      "Epoch 49/50\n",
      "39s - loss: 0.0207 - acc: 0.9925 - val_loss: 0.0436 - val_acc: 0.9895\n",
      "Epoch 50/50\n",
      "39s - loss: 0.0201 - acc: 0.9935 - val_loss: 0.0395 - val_acc: 0.9902\n",
      "Baseline Error: 0.98%\n"
     ]
    }
   ],
   "source": [
    "import numpy\n",
    "from keras.datasets import mnist\n",
    "from keras.models import Sequential\n",
    "from keras.layers import Dense\n",
    "from keras.layers import Dropout\n",
    "from keras.layers import Flatten\n",
    "from keras.layers.convolutional import Convolution2D\n",
    "from keras.layers.convolutional import MaxPooling2D\n",
    "from keras.utils import np_utils\n",
    "from keras import backend as K\n",
    "K.set_image_dim_ordering('th')\n",
    "\n",
    "X_train = X_trn.reshape(X_trn.shape[0], 1, 28, 28).astype('float32')\n",
    "X_test = X_tst.reshape(X_tst.shape[0], 1, 28, 28).astype('float32')\n",
    "\n",
    "X_train = X_train / 255\n",
    "X_test = X_test / 255\n",
    "# one hot encode outputs\n",
    "y_train = np_utils.to_categorical(y_trn)\n",
    "y_test = np_utils.to_categorical(y_tst)\n",
    "num_classes = y_test.shape[1]\n",
    "\n",
    "\n",
    "\n",
    "\n",
    "model = Sequential()\n",
    "\n",
    "\n",
    "model.add(Convolution2D(30, 5, 5, input_shape=(1, 28, 28), activation='relu', border_mode=\"same\"))\n",
    "model.add(MaxPooling2D(pool_size=(2, 2), strides=(2, 2)))\n",
    "model.add(Convolution2D(30, 5, 5, activation='relu', border_mode=\"same\"))\n",
    "model.add(MaxPooling2D(pool_size=(2, 2), strides=(2, 2)))\n",
    "model.add(Convolution2D(30, 5, 5, activation='relu', border_mode=\"same\"))\n",
    "model.add(MaxPooling2D(pool_size=(2, 2), strides=(2, 2)))\n",
    "model.add(Dropout(0.5))\n",
    "model.add(Flatten())\n",
    "model.add(Dense(128, activation='relu'))\n",
    "model.add(Dense(50, activation='relu'))\n",
    "model.add(Dense(30, activation='relu'))\n",
    "model.add(Dense(y_test.shape[1], activation='softmax'))\n",
    "\t# Compile model\n",
    "model.compile(loss='categorical_crossentropy', optimizer='adam', metrics=['accuracy'])\n",
    "\n",
    "model.fit(X_train, y_train, validation_data=(X_test, y_test), nb_epoch=50, batch_size=200, verbose=2)\n",
    "# # Final evaluation of the model\n",
    "scores = model.evaluate(X_test, y_test, verbose=0)\n",
    "print(\"Baseline Error: %.2f%%\" % (100-scores[1]*100))"
   ]
  },
  {
   "cell_type": "code",
   "execution_count": null,
   "metadata": {
    "collapsed": true
   },
   "outputs": [],
   "source": []
  }
 ],
 "metadata": {
  "anaconda-cloud": {},
  "kernelspec": {
   "display_name": "Python [Root]",
   "language": "python",
   "name": "Python [Root]"
  },
  "language_info": {
   "codemirror_mode": {
    "name": "ipython",
    "version": 2
   },
   "file_extension": ".py",
   "mimetype": "text/x-python",
   "name": "python",
   "nbconvert_exporter": "python",
   "pygments_lexer": "ipython2",
   "version": "2.7.11"
  }
 },
 "nbformat": 4,
 "nbformat_minor": 0
}
